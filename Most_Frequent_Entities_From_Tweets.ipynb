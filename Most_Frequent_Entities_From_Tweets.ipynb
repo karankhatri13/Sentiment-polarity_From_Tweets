{
 "cells": [
  {
   "cell_type": "markdown",
   "metadata": {},
   "source": [
    "### Loading the dataset"
   ]
  },
  {
   "cell_type": "code",
   "execution_count": 1,
   "metadata": {},
   "outputs": [],
   "source": [
    "import json "
   ]
  },
  {
   "cell_type": "code",
   "execution_count": 2,
   "metadata": {},
   "outputs": [],
   "source": [
    "d = open ('tweets.json', \"r\")"
   ]
  },
  {
   "cell_type": "code",
   "execution_count": 3,
   "metadata": {},
   "outputs": [],
   "source": [
    "data = json.loads(d.read())"
   ]
  },
  {
   "cell_type": "markdown",
   "metadata": {},
   "source": [
    "### As we can see each tweet consist the unique tweet ID in form of (Keys) so it does'nt make any sense to take them into action "
   ]
  },
  {
   "cell_type": "code",
   "execution_count": 4,
   "metadata": {},
   "outputs": [],
   "source": [
    "tweets_list =  []"
   ]
  },
  {
   "cell_type": "code",
   "execution_count": 5,
   "metadata": {},
   "outputs": [],
   "source": [
    "for key,value in data.items() :\n",
    "    tweets_list.append(value)"
   ]
  },
  {
   "cell_type": "markdown",
   "metadata": {},
   "source": [
    "### we're only considering the values for the further processing  "
   ]
  },
  {
   "cell_type": "code",
   "execution_count": 6,
   "metadata": {},
   "outputs": [
    {
     "data": {
      "text/plain": [
       "[{'tweet_author': 'Hematopoiesis News',\n",
       "  'tweet_text': '⚕️ Scientists conducted a Phase II study of acalabrutinib in patients with relapsed/refractory #CLL who were ibrutinib-intolerant, and found an overall response rate of 73%. \\nhttps://t.co/eJ6m4QpC5P https://t.co/kuZz6ZO47r'},\n",
       " {'tweet_author': 'Michael Wang, MD',\n",
       "  'tweet_text': 'This phase 2 Acalabrutinib-Venetoclax (AV) trial that is still in recruitment phase will study how well venetoclax and acalabrutinib works in MCL patients who either relapsed or non-respondent to the initial therapy.\\n\\nhttps://t.co/gg0G9At23N'},\n",
       " {'tweet_author': '1stOncology',\n",
       "  'tweet_text': '#NICE backs #AstraZenecas #Calquence for #CLL https://t.co/Vb5lPDoGrA'},\n",
       " {'tweet_author': 'Toby Eyre',\n",
       "  'tweet_text': '#acalabrutinib is a valuable option in pts intolerant to #ibrutinib. Further valuable data to help decision making in #CLL \\n\\nEarly View | Haematologica https://t.co/Z2kCLZaX0D'},\n",
       " {'tweet_author': 'Lymphoma Hub',\n",
       "  'tweet_text': 'NICE has recommended the use of acalabrutinib for patients with treatment-naïve chronic lymphocytic leukemia. Find out more here https://t.co/6OuJptLCIN #lymsm #lymphoma'},\n",
       " {'tweet_author': 'David Ledger',\n",
       "  'tweet_text': 'NICE backs AstraZeneca’s Calquence for CLL https://t.co/JOPNLNID5R https://t.co/9pwY4NKP4s'},\n",
       " {'tweet_author': 'N Wales Cancer Forum',\n",
       "  'tweet_text': 'This is England for now - these decisions usually come to Wales too. \\nMore info\\n\\n https://t.co/SR5TU0ZSHH https://t.co/OFdwEdlav6'},\n",
       " {'tweet_author': 'European Pharmaceutical Review',\n",
       "  'tweet_text': 'AstraZeneca’s Calquence (acalabrutinib), a chemotherapy-free monotherapy, will be offered to patients with chronic lymphocytic #leukaemia.\\n#oncology #drugapprovals #pharma #healthnews\\nFind out more here: https://t.co/qYUft2Cn8b https://t.co/Sxve6NGGX3'},\n",
       " {'tweet_author': 'Graham Collins',\n",
       "  'tweet_text': 'Superstar @tobyeyre82 responding to the excellent news of NICE approval of acalabrutinib in frontline CLL for FCR / BR unsuitable patients. https://t.co/lACvpOtrWx'},\n",
       " {'tweet_author': 'CLL Ireland',\n",
       "  'tweet_text': 'CLL patients all know the drug Ibrutinib and yesterday in the UK Acalabrutinib was approved and now a new drug Pirtobrutinib is making a big impact for relapsed patients in recent #clinicaltrials\\n@cancertrials_ie @CllSociety @LAL_NI @BloodCancerIRL\\nhttps://t.co/murr3KPhsZ'}]"
      ]
     },
     "execution_count": 6,
     "metadata": {},
     "output_type": "execute_result"
    }
   ],
   "source": [
    "tweets_list[:10]"
   ]
  },
  {
   "cell_type": "markdown",
   "metadata": {},
   "source": [
    "### Importing required libraries"
   ]
  },
  {
   "cell_type": "code",
   "execution_count": 110,
   "metadata": {},
   "outputs": [],
   "source": [
    "import numpy as np\n",
    "import pandas as pd\n",
    "import itertools\n",
    "import collections\n",
    "\n",
    "import warnings\n",
    "warnings.filterwarnings(\"ignore\")"
   ]
  },
  {
   "cell_type": "markdown",
   "metadata": {},
   "source": [
    "### converting those tweet values to Dataframe "
   ]
  },
  {
   "cell_type": "code",
   "execution_count": 111,
   "metadata": {},
   "outputs": [],
   "source": [
    "df = pd.DataFrame(tweets_list)"
   ]
  },
  {
   "cell_type": "code",
   "execution_count": 121,
   "metadata": {
    "scrolled": false
   },
   "outputs": [
    {
     "data": {
      "text/html": [
       "<div>\n",
       "<style scoped>\n",
       "    .dataframe tbody tr th:only-of-type {\n",
       "        vertical-align: middle;\n",
       "    }\n",
       "\n",
       "    .dataframe tbody tr th {\n",
       "        vertical-align: top;\n",
       "    }\n",
       "\n",
       "    .dataframe thead th {\n",
       "        text-align: right;\n",
       "    }\n",
       "</style>\n",
       "<table border=\"1\" class=\"dataframe\">\n",
       "  <thead>\n",
       "    <tr style=\"text-align: right;\">\n",
       "      <th></th>\n",
       "      <th>tweet_author</th>\n",
       "      <th>tweet_text</th>\n",
       "    </tr>\n",
       "  </thead>\n",
       "  <tbody>\n",
       "    <tr>\n",
       "      <th>0</th>\n",
       "      <td>Hematopoiesis News</td>\n",
       "      <td>scientists conducted a phase ii study of acala...</td>\n",
       "    </tr>\n",
       "    <tr>\n",
       "      <th>1</th>\n",
       "      <td>Michael Wang, MD</td>\n",
       "      <td>this phase acalabrutinib venetoclax av trial t...</td>\n",
       "    </tr>\n",
       "    <tr>\n",
       "      <th>2</th>\n",
       "      <td>1stOncology</td>\n",
       "      <td>nice backs astrazenecas calquence for cll http...</td>\n",
       "    </tr>\n",
       "    <tr>\n",
       "      <th>3</th>\n",
       "      <td>Toby Eyre</td>\n",
       "      <td>acalabrutinib is a valuable option in pts into...</td>\n",
       "    </tr>\n",
       "    <tr>\n",
       "      <th>4</th>\n",
       "      <td>Lymphoma Hub</td>\n",
       "      <td>nice has recommended the use of acalabrutinib ...</td>\n",
       "    </tr>\n",
       "    <tr>\n",
       "      <th>...</th>\n",
       "      <td>...</td>\n",
       "      <td>...</td>\n",
       "    </tr>\n",
       "    <tr>\n",
       "      <th>43342</th>\n",
       "      <td>Joy is a Lifestyle</td>\n",
       "      <td>hanging out with friends ff cll happiness http...</td>\n",
       "    </tr>\n",
       "    <tr>\n",
       "      <th>43343</th>\n",
       "      <td>𝓒𝓻𝓲𝔃𝔃𝔂 𝓟𝓮𝓻𝓻𝔂🌹</td>\n",
       "      <td>hanging out with friends ff cll happiness http...</td>\n",
       "    </tr>\n",
       "    <tr>\n",
       "      <th>43344</th>\n",
       "      <td>IQWiG</td>\n",
       "      <td>zusatznutzen von idelalisib ist weder f r cll ...</td>\n",
       "    </tr>\n",
       "    <tr>\n",
       "      <th>43345</th>\n",
       "      <td>Medibooks</td>\n",
       "      <td>hematolog a ptk expression and immunochemother...</td>\n",
       "    </tr>\n",
       "    <tr>\n",
       "      <th>43346</th>\n",
       "      <td>Medibooks</td>\n",
       "      <td>hematolog a mutations in tlr myd pathway ident...</td>\n",
       "    </tr>\n",
       "  </tbody>\n",
       "</table>\n",
       "<p>43347 rows × 2 columns</p>\n",
       "</div>"
      ],
      "text/plain": [
       "             tweet_author                                         tweet_text\n",
       "0      Hematopoiesis News  scientists conducted a phase ii study of acala...\n",
       "1        Michael Wang, MD  this phase acalabrutinib venetoclax av trial t...\n",
       "2             1stOncology  nice backs astrazenecas calquence for cll http...\n",
       "3               Toby Eyre  acalabrutinib is a valuable option in pts into...\n",
       "4            Lymphoma Hub  nice has recommended the use of acalabrutinib ...\n",
       "...                   ...                                                ...\n",
       "43342  Joy is a Lifestyle  hanging out with friends ff cll happiness http...\n",
       "43343       𝓒𝓻𝓲𝔃𝔃𝔂 𝓟𝓮𝓻𝓻𝔂🌹  hanging out with friends ff cll happiness http...\n",
       "43344               IQWiG  zusatznutzen von idelalisib ist weder f r cll ...\n",
       "43345           Medibooks  hematolog a ptk expression and immunochemother...\n",
       "43346           Medibooks  hematolog a mutations in tlr myd pathway ident...\n",
       "\n",
       "[43347 rows x 2 columns]"
      ]
     },
     "execution_count": 121,
     "metadata": {},
     "output_type": "execute_result"
    }
   ],
   "source": [
    "df"
   ]
  },
  {
   "cell_type": "markdown",
   "metadata": {},
   "source": [
    "### importing NLTK toolkit"
   ]
  },
  {
   "cell_type": "code",
   "execution_count": 11,
   "metadata": {},
   "outputs": [],
   "source": [
    "import nltk\n",
    "from nltk.corpus import stopwords\n",
    "import re\n",
    "import tweepy as tw\n",
    "import networkx\n",
    "from nltk.tokenize import word_tokenize\n",
    "from spacy.lang.en.stop_words import STOP_WORDS\n",
    "from itertools import filterfalse\n",
    "from nltk import pos_tag\n",
    "from nltk.stem import WordNetLemmatizer\n",
    "from nltk.corpus import wordnet\n",
    "import string\n",
    "from string import punctuation"
   ]
  },
  {
   "cell_type": "markdown",
   "metadata": {},
   "source": [
    "### As we can clearly see the tweet text consists the HTML tags , punctuations and non alphabetic characters Hyperlinks as well as Emojis \n",
    "### Functions to clean all of the above"
   ]
  },
  {
   "cell_type": "code",
   "execution_count": 112,
   "metadata": {},
   "outputs": [],
   "source": [
    "def cleanHtml(sentence):\n",
    "    cleanr = re.compile('<.*?>')\n",
    "    cleantext = re.sub(cleanr, ' ', str(sentence))\n",
    "    return cleantext"
   ]
  },
  {
   "cell_type": "code",
   "execution_count": 113,
   "metadata": {},
   "outputs": [],
   "source": [
    "def cleanPunc(sentence): #function to clean the word of any punctuation or special characters\n",
    "    cleaned = re.sub(r'[?|!|\\'|\"|#]',r'',sentence)\n",
    "    cleaned = re.sub(r'[.|,|)|(|\\|/]',r' ',cleaned)\n",
    "    cleaned = cleaned.strip()\n",
    "    cleaned = cleaned.replace(\"\\n\",\" \")\n",
    "    return cleaned"
   ]
  },
  {
   "cell_type": "code",
   "execution_count": 114,
   "metadata": {},
   "outputs": [],
   "source": [
    "def keepAlpha(sentence):\n",
    "    alpha_sent = \"\"\n",
    "    for word in sentence.split():\n",
    "        alpha_word = re.sub('[^a-z A-Z]+', ' ', word)\n",
    "        alpha_sent += alpha_word\n",
    "        alpha_sent += \" \"\n",
    "    alpha_sent = alpha_sent.strip()\n",
    "    return alpha_sent"
   ]
  },
  {
   "cell_type": "code",
   "execution_count": 115,
   "metadata": {},
   "outputs": [],
   "source": [
    "def remove_url(txt):\n",
    "    return \" \".join(re.sub(\"([^0-9A-Za-z \\t])|(\\w+:\\/\\/\\S+)\", \"\", txt).split())"
   ]
  },
  {
   "cell_type": "code",
   "execution_count": 116,
   "metadata": {},
   "outputs": [],
   "source": [
    "df['tweet_text'] = df['tweet_text'].apply(cleanHtml)\n",
    "df['tweet_text'] = df['tweet_text'].apply(cleanPunc)\n",
    "df['tweet_text'] = df['tweet_text'].apply(keepAlpha)\n",
    "df['tweet_text'] = df['tweet_text'].apply(remove_url)\n",
    "df['tweet_text'] = df['tweet_text'].str.lower()"
   ]
  },
  {
   "cell_type": "markdown",
   "metadata": {},
   "source": [
    "### tweets after taking out all the Tags, Hyperlinks, punctuations and emojis"
   ]
  },
  {
   "cell_type": "code",
   "execution_count": 117,
   "metadata": {},
   "outputs": [
    {
     "data": {
      "text/plain": [
       "0    scientists conducted a phase ii study of acala...\n",
       "1    this phase acalabrutinib venetoclax av trial t...\n",
       "2    nice backs astrazenecas calquence for cll http...\n",
       "3    acalabrutinib is a valuable option in pts into...\n",
       "4    nice has recommended the use of acalabrutinib ...\n",
       "5    nice backs astrazeneca s calquence for cll htt...\n",
       "6    this is england for now these decisions usuall...\n",
       "Name: tweet_text, dtype: object"
      ]
     },
     "execution_count": 117,
     "metadata": {},
     "output_type": "execute_result"
    }
   ],
   "source": [
    "df['tweet_text'][0:7]"
   ]
  },
  {
   "cell_type": "markdown",
   "metadata": {},
   "source": [
    "### removing commonly used words and normalising tweets for better evuluation"
   ]
  },
  {
   "cell_type": "code",
   "execution_count": 118,
   "metadata": {},
   "outputs": [],
   "source": [
    "from nltk.corpus import stopwords\n",
    "stop = stopwords.words('english')\n",
    "punctuation = punctuation + '\\n' + '—' + '“' + ',' + '”' + '‘' + '-' + '’'"
   ]
  },
  {
   "cell_type": "code",
   "execution_count": 19,
   "metadata": {},
   "outputs": [],
   "source": [
    "df['tweet_text'] = df['tweet_text'].apply(lambda x: ' '.join([word for word in x.split() if word not in (stop)]))"
   ]
  },
  {
   "cell_type": "code",
   "execution_count": 20,
   "metadata": {},
   "outputs": [],
   "source": [
    "def normalize_tokens(list_of_tokens):\n",
    "    return map(lambda x: x.lower(),list_of_tokens)\n",
    "\n",
    "def contractions_expansion(list_of_tokens):\n",
    "    return map(contracted_word_expansion,list_of_tokens)"
   ]
  },
  {
   "cell_type": "code",
   "execution_count": 21,
   "metadata": {},
   "outputs": [],
   "source": [
    "df['tweet_text'] = df['tweet_text'].apply(lambda x: word_tokenize(x))\n",
    "df['tweet_text'] = df['tweet_text'].apply(lambda x: normalize_tokens(x))"
   ]
  },
  {
   "cell_type": "markdown",
   "metadata": {},
   "source": [
    "### universal regular expression for removal of special and unneccessary blocks"
   ]
  },
  {
   "cell_type": "code",
   "execution_count": 22,
   "metadata": {},
   "outputs": [],
   "source": [
    "regex = r'^@[a-zA-z0-9]|^#[a-zA-Z0-9]|\\w+:\\/{2}[\\d\\w-]+(\\.[\\d\\w-]+)*(?:(?:\\/[^\\s/]*))*|\\W+|\\d+|<(\"[^\"]*\"|\\'[^\\']*\\'|[^\\'\">])*>|_+|[^\\u0000-\\u007f]+'"
   ]
  },
  {
   "cell_type": "code",
   "execution_count": 23,
   "metadata": {},
   "outputs": [],
   "source": [
    "def waste_word_or_not(token):\n",
    "    return re.search(regex,token)\n",
    "\n",
    "def filter_waste_words(list_of_tokens):\n",
    "    return filterfalse(waste_word_or_not,list_of_tokens)\n",
    "\n",
    "def split(list_of_tokens):\n",
    "    return map(lambda x: re.split(regex,x)[0],list_of_tokens)"
   ]
  },
  {
   "cell_type": "code",
   "execution_count": 24,
   "metadata": {},
   "outputs": [],
   "source": [
    "df['tweet_text'] = df['tweet_text'].apply(lambda x: filter_waste_words(x))\n",
    "df['tweet_text'] = df['tweet_text'].apply(lambda x: list(x))"
   ]
  },
  {
   "cell_type": "code",
   "execution_count": 25,
   "metadata": {
    "scrolled": true
   },
   "outputs": [
    {
     "data": {
      "text/plain": [
       "0    [scientists, conducted, phase, ii, study, acal...\n",
       "1    [phase, acalabrutinib, venetoclax, av, trial, ...\n",
       "2    [nice, backs, astrazenecas, calquence, cll, ht...\n",
       "3    [acalabrutinib, valuable, option, pts, intoler...\n",
       "4    [nice, recommended, use, acalabrutinib, patien...\n",
       "5    [nice, backs, astrazeneca, calquence, cll, htt...\n",
       "6    [england, decisions, usually, come, wales, inf...\n",
       "Name: tweet_text, dtype: object"
      ]
     },
     "execution_count": 25,
     "metadata": {},
     "output_type": "execute_result"
    }
   ],
   "source": [
    "df['tweet_text'][:7]"
   ]
  },
  {
   "cell_type": "markdown",
   "metadata": {},
   "source": [
    "### Taking out the repetition of same words from the tweets"
   ]
  },
  {
   "cell_type": "code",
   "execution_count": 26,
   "metadata": {},
   "outputs": [],
   "source": [
    "en_stop_words = list(set(stopwords.words('english')).union(set(STOP_WORDS)))"
   ]
  },
  {
   "cell_type": "code",
   "execution_count": 27,
   "metadata": {},
   "outputs": [],
   "source": [
    "def is_stopword(token):\n",
    "    return not(token in en_stop_words or re.search(r'\\b\\w\\b|[^\\u0000-\\u007f]+|_+|\\W+',token))\n",
    "\n",
    "def stopwords_removal(list_of_tokens):\n",
    "    return filter(is_stopword,list_of_tokens)"
   ]
  },
  {
   "cell_type": "code",
   "execution_count": 28,
   "metadata": {},
   "outputs": [],
   "source": [
    "df['tweet_text'] = df['tweet_text'].apply(lambda x: stopwords_removal(x))\n",
    "df['tweet_text'] = df['tweet_text'].apply(lambda x: list(x))"
   ]
  },
  {
   "cell_type": "markdown",
   "metadata": {},
   "source": [
    "### As we can see the tweets are cleaned and in canonical (standard) form"
   ]
  },
  {
   "cell_type": "code",
   "execution_count": 29,
   "metadata": {
    "scrolled": true
   },
   "outputs": [
    {
     "data": {
      "text/plain": [
       "1000    [myriad, trials, testing, immunomodulating, bl...\n",
       "1001    [news, chmp, adopts, positive, opinion, acalab...\n",
       "1002    [according, new, small, study, acalabrutinib, ...\n",
       "1003    [medscape, hematology, oncology, headlines, gt...\n",
       "1004    [calquence, recommended, eu, approval, chmp, c...\n",
       "1005    [study, evaluate, effects, proton, pump, inhib...\n",
       "1006    [clinicaltrial, study, evaluate, effects, prot...\n",
       "Name: tweet_text, dtype: object"
      ]
     },
     "execution_count": 29,
     "metadata": {},
     "output_type": "execute_result"
    }
   ],
   "source": [
    "df['tweet_text'][1000:1007]"
   ]
  },
  {
   "cell_type": "markdown",
   "metadata": {},
   "source": [
    "### converting the tweets list to string as Spacy models only accepts str form "
   ]
  },
  {
   "cell_type": "code",
   "execution_count": 30,
   "metadata": {},
   "outputs": [],
   "source": [
    "def listtostring(s):\n",
    "\n",
    "    text = \" \"\n",
    "    return (text.join(s))"
   ]
  },
  {
   "cell_type": "code",
   "execution_count": 31,
   "metadata": {},
   "outputs": [],
   "source": [
    "df['tweet_text'] = df['tweet_text'].apply(listtostring)"
   ]
  },
  {
   "cell_type": "code",
   "execution_count": 32,
   "metadata": {
    "scrolled": true
   },
   "outputs": [
    {
     "data": {
      "text/plain": [
       "1000    myriad trials testing immunomodulating blood c...\n",
       "1001    news chmp adopts positive opinion acalabrutini...\n",
       "1002    according new small study acalabrutinib counte...\n",
       "1003    medscape hematology oncology headlines gt gt h...\n",
       "1004    calquence recommended eu approval chmp chronic...\n",
       "1005    study evaluate effects proton pump inhibitor a...\n",
       "1006    clinicaltrial study evaluate effects proton pu...\n",
       "Name: tweet_text, dtype: object"
      ]
     },
     "execution_count": 32,
     "metadata": {},
     "output_type": "execute_result"
    }
   ],
   "source": [
    "df['tweet_text'][1000:1007]"
   ]
  },
  {
   "cell_type": "code",
   "execution_count": 33,
   "metadata": {},
   "outputs": [],
   "source": [
    "tweet_text = df['tweet_text'][0:7500]\n",
    "tweet_token = ''\n",
    "for i in df['tweet_text'][0:7500]:\n",
    "    tweet_token += str(i)"
   ]
  },
  {
   "cell_type": "markdown",
   "metadata": {},
   "source": [
    "### Spacy (NER) Name Entity Recognition is probably the first step towards information extraction that seeks to locate and classify named entities in text into pre-defined categories such as the names of persons, organizations, locations, expressions of times, quantities, monetary values, percentages, etc."
   ]
  },
  {
   "cell_type": "code",
   "execution_count": 34,
   "metadata": {},
   "outputs": [
    {
     "data": {
      "text/plain": [
       "<spacy.lang.en.English at 0x2c2140dadc0>"
      ]
     },
     "execution_count": 34,
     "metadata": {},
     "output_type": "execute_result"
    }
   ],
   "source": [
    "import spacy\n",
    "  \n",
    "nlp = spacy.load(\"en_core_web_sm\", disable=[\"tagger\", \"attribute_ruler\", \"lemmatizer\"])\n",
    "nlp"
   ]
  },
  {
   "cell_type": "markdown",
   "metadata": {},
   "source": [
    "### passing the tweet tokens to Spacy model "
   ]
  },
  {
   "cell_type": "code",
   "execution_count": 35,
   "metadata": {},
   "outputs": [],
   "source": [
    "doc = nlp(tweet_token)"
   ]
  },
  {
   "cell_type": "markdown",
   "metadata": {},
   "source": [
    "### here we get the token text , starting char , ending char ,  token vector norm and token labels"
   ]
  },
  {
   "cell_type": "code",
   "execution_count": 122,
   "metadata": {
    "scrolled": true
   },
   "outputs": [
    {
     "name": "stdout",
     "output_type": "stream",
     "text": [
      "yesterday --- 1150 --- 1159 --- 8.693491 --- DATE\n",
      "march pm --- 1382 --- 1390 --- 4.9024253 --- TIME\n",
      "today --- 1692 --- 1697 --- 9.043982 --- DATE\n",
      "thursday --- 1698 --- 1706 --- 8.113397 --- DATE\n",
      "daily --- 2138 --- 2143 --- 7.513793 --- DATE\n",
      "today --- 2204 --- 2209 --- 9.387628 --- DATE\n",
      "thursday --- 2210 --- 2218 --- 8.742422 --- DATE\n",
      "recent years --- 8039 --- 8051 --- 5.7938538 --- DATE\n",
      "tuesday --- 11005 --- 11012 --- 7.676716 --- DATE\n",
      "second --- 13341 --- 13347 --- 6.919266 --- ORDINAL\n",
      "second --- 15533 --- 15539 --- 6.934958 --- ORDINAL\n",
      "secondary --- 20236 --- 20245 --- 8.061173 --- ORDINAL\n",
      "quarter --- 22677 --- 22684 --- 6.790628 --- DATE\n",
      "sarahcannondocs --- 26229 --- 26244 --- 6.438276 --- DATE\n",
      "months --- 27867 --- 27873 --- 7.6612477 --- DATE\n",
      "months --- 28057 --- 28063 --- 6.818067 --- DATE\n",
      "months --- 29880 --- 29886 --- 7.493107 --- DATE\n",
      "seven --- 30005 --- 30010 --- 8.608659 --- CARDINAL\n",
      "today --- 30151 --- 30156 --- 9.211719 --- DATE\n",
      "night --- 32188 --- 32193 --- 7.8130746 --- TIME\n",
      "year --- 32924 --- 32928 --- 6.9483137 --- DATE\n",
      "year --- 33085 --- 33089 --- 6.956581 --- DATE\n",
      "year --- 33245 --- 33249 --- 6.956581 --- DATE\n",
      "year --- 33283 --- 33287 --- 6.99462 --- DATE\n",
      "year --- 33865 --- 33869 --- 6.956581 --- DATE\n",
      "year --- 34025 --- 34029 --- 6.9483137 --- DATE\n",
      "year --- 34201 --- 34205 --- 6.717116 --- DATE\n",
      "year --- 34290 --- 34294 --- 6.9483137 --- DATE\n",
      "monday --- 35846 --- 35852 --- 7.1515493 --- DATE\n",
      "year --- 39266 --- 39270 --- 6.9436965 --- DATE\n",
      "years --- 40202 --- 40207 --- 7.842133 --- DATE\n",
      "years --- 41289 --- 41294 --- 7.6672535 --- DATE\n",
      "years --- 41810 --- 41815 --- 7.842133 --- DATE\n",
      "years --- 42325 --- 42330 --- 7.842133 --- DATE\n",
      "years --- 42472 --- 42477 --- 7.842133 --- DATE\n",
      "years --- 42616 --- 42621 --- 7.842133 --- DATE\n",
      "today --- 43312 --- 43317 --- 8.9787035 --- DATE\n",
      "years --- 45122 --- 45127 --- 7.8594904 --- DATE\n",
      "years --- 47266 --- 47271 --- 7.842133 --- DATE\n",
      "years --- 48176 --- 48181 --- 7.842133 --- DATE\n",
      "years --- 48285 --- 48290 --- 7.842133 --- DATE\n",
      "years --- 48575 --- 48580 --- 7.842133 --- DATE\n",
      "years --- 48698 --- 48703 --- 7.842133 --- DATE\n",
      "years --- 49008 --- 49013 --- 7.842133 --- DATE\n",
      "years --- 49135 --- 49140 --- 7.842133 --- DATE\n",
      "years --- 49258 --- 49263 --- 7.842133 --- DATE\n",
      "years --- 49381 --- 49386 --- 7.842133 --- DATE\n",
      "years --- 49508 --- 49513 --- 7.842133 --- DATE\n",
      "years --- 49615 --- 49620 --- 7.842133 --- DATE\n",
      "years --- 49937 --- 49942 --- 7.842133 --- DATE\n",
      "years --- 50063 --- 50068 --- 7.842133 --- DATE\n",
      "year --- 50302 --- 50306 --- 6.7430406 --- DATE\n",
      "year --- 50502 --- 50506 --- 7.4274206 --- DATE\n",
      "year --- 52798 --- 52802 --- 6.954842 --- DATE\n",
      "year --- 52904 --- 52908 --- 6.930614 --- DATE\n",
      "year --- 53157 --- 53161 --- 6.8622923 --- DATE\n",
      "year --- 53704 --- 53708 --- 6.8622923 --- DATE\n",
      "night --- 56468 --- 56473 --- 7.831072 --- TIME\n",
      "year --- 57125 --- 57129 --- 6.969222 --- DATE\n",
      "year --- 57218 --- 57222 --- 6.969222 --- DATE\n",
      "year --- 57311 --- 57315 --- 6.969222 --- DATE\n",
      "year --- 57404 --- 57408 --- 6.940222 --- DATE\n",
      "night --- 58271 --- 58276 --- 7.8360887 --- TIME\n",
      "night --- 59477 --- 59482 --- 7.8288217 --- TIME\n",
      "night --- 59647 --- 59652 --- 7.8409157 --- TIME\n",
      "night --- 66318 --- 66323 --- 7.822969 --- TIME\n",
      "november pm --- 68595 --- 68606 --- 6.1290817 --- TIME\n",
      "night --- 71765 --- 71770 --- 7.833675 --- TIME\n",
      "fdhqnumcqa --- 71882 --- 71892 --- 6.823606 --- DATE\n",
      "night --- 72202 --- 72207 --- 7.842596 --- TIME\n",
      "night --- 74292 --- 74297 --- 7.828841 --- TIME\n",
      "november pm --- 75656 --- 75667 --- 5.1061053 --- TIME\n",
      "endpointastrazenecas --- 80692 --- 80712 --- 7.1157837 --- CARDINAL\n",
      "today --- 80839 --- 80844 --- 7.8244147 --- DATE\n",
      "thursday --- 88532 --- 88540 --- 7.84333 --- DATE\n",
      "mm --- 92484 --- 92486 --- 6.911059 --- PERSON\n",
      "month --- 92794 --- 92799 --- 7.0449314 --- DATE\n",
      "american --- 95661 --- 95669 --- 7.622741 --- NORP\n",
      "india --- 102312 --- 102317 --- 7.091611 --- GPE\n",
      "india --- 102335 --- 102340 --- 7.068435 --- GPE\n",
      "india --- 102690 --- 102695 --- 7.1931334 --- GPE\n",
      "india --- 103052 --- 103057 --- 6.958228 --- GPE\n",
      "india --- 103075 --- 103080 --- 7.068435 --- GPE\n",
      "india --- 103278 --- 103283 --- 7.0528283 --- GPE\n",
      "india --- 103301 --- 103306 --- 7.068435 --- GPE\n",
      "india --- 103367 --- 103372 --- 6.9404655 --- GPE\n",
      "india --- 103390 --- 103395 --- 7.068435 --- GPE\n",
      "friday --- 103482 --- 103488 --- 8.501103 --- DATE\n",
      "india --- 103946 --- 103951 --- 7.1270714 --- GPE\n",
      "india --- 104111 --- 104116 --- 7.982282 --- GPE\n",
      "october --- 104474 --- 104481 --- 6.7729864 --- DATE\n",
      "october --- 104599 --- 104606 --- 6.8212633 --- DATE\n",
      "morning exclusive morning --- 104631 --- 104656 --- 5.2928934 --- TIME\n",
      "october --- 104722 --- 104729 --- 7.366648 --- DATE\n",
      "india --- 104797 --- 104802 --- 6.5579066 --- GPE\n",
      "india --- 104861 --- 104866 --- 7.339409 --- GPE\n",
      "india --- 104893 --- 104898 --- 6.81481 --- GPE\n",
      "october --- 104934 --- 104941 --- 7.013874 --- DATE\n",
      "india --- 105028 --- 105033 --- 7.5336065 --- GPE\n",
      "october kpmg --- 105501 --- 105513 --- 6.4997134 --- DATE\n",
      "october --- 105538 --- 105545 --- 6.7654114 --- DATE\n",
      "india --- 105729 --- 105734 --- 7.242218 --- GPE\n",
      "india --- 105773 --- 105778 --- 6.9086 --- GPE\n",
      "october --- 105802 --- 105809 --- 6.585693 --- DATE\n",
      "india --- 106026 --- 106031 --- 7.3267546 --- GPE\n",
      "india --- 106098 --- 106103 --- 7.066212 --- GPE\n",
      "india --- 106479 --- 106484 --- 7.183071 --- GPE\n",
      "weeks --- 109599 --- 109604 --- 7.067769 --- DATE\n",
      "september --- 121383 --- 121392 --- 7.538333 --- DATE\n",
      "second --- 122067 --- 122073 --- 7.8315525 --- ORDINAL\n",
      "month --- 128154 --- 128159 --- 7.629376 --- DATE\n",
      "half billion dollars --- 128168 --- 128188 --- 5.278952 --- MONEY\n",
      "zenecas --- 138027 --- 138034 --- 6.8581815 --- GPE\n",
      "sarahcannondocs --- 142338 --- 142353 --- 6.4527607 --- DATE\n",
      "mavtwbj --- 144305 --- 144312 --- 7.6012974 --- DATE\n",
      "oh seyzyucprice month --- 144570 --- 144591 --- 5.392752 --- DATE\n",
      "india --- 144634 --- 144639 --- 7.3496995 --- GPE\n",
      "daily --- 146692 --- 146697 --- 7.548252 --- DATE\n",
      "sll quarter --- 147645 --- 147656 --- 6.2471404 --- DATE\n",
      "american --- 150677 --- 150685 --- 7.7577543 --- NORP\n",
      "american --- 150887 --- 150895 --- 7.7577543 --- NORP\n",
      "american --- 151328 --- 151336 --- 7.7312436 --- NORP\n",
      "months --- 156924 --- 156930 --- 7.321539 --- DATE\n",
      "months --- 158428 --- 158434 --- 7.0189133 --- DATE\n",
      "years --- 159483 --- 159488 --- 7.7402186 --- DATE\n",
      "week --- 163306 --- 163310 --- 6.758233 --- DATE\n",
      "week --- 166802 --- 166806 --- 7.390677 --- DATE\n",
      "days --- 168128 --- 168132 --- 7.715404 --- DATE\n",
      "month --- 174257 --- 174262 --- 6.8638983 --- DATE\n",
      "minutes weeks --- 179703 --- 179716 --- 7.096199 --- DATE\n",
      "today --- 179924 --- 179929 --- 9.5654 --- DATE\n",
      "dxtznlcxmuhealthday --- 180501 --- 180520 --- 8.102225 --- DATE\n",
      "months --- 180922 --- 180928 --- 6.83716 --- DATE\n",
      "years --- 181123 --- 181128 --- 6.4998407 --- DATE\n",
      "india --- 184116 --- 184121 --- 7.3332253 --- GPE\n",
      "severos --- 184799 --- 184806 --- 6.5315022 --- CARDINAL\n",
      "severos --- 204321 --- 204328 --- 6.3520393 --- CARDINAL\n",
      "today --- 209940 --- 209945 --- 7.614734 --- DATE\n",
      "republican --- 211377 --- 211387 --- 7.215842 --- NORP\n",
      "days --- 211570 --- 211574 --- 7.4064956 --- DATE\n",
      "today --- 215333 --- 215338 --- 7.4424343 --- DATE\n",
      "qdjtzoogw --- 220664 --- 220673 --- 6.982556 --- DATE\n",
      "severos --- 221064 --- 221071 --- 6.726617 --- CARDINAL\n",
      "day --- 221625 --- 221628 --- 7.1685505 --- DATE\n",
      "days --- 223700 --- 223704 --- 7.2123075 --- DATE\n",
      "daily --- 224420 --- 224425 --- 7.3778577 --- DATE\n",
      "al --- 224642 --- 224644 --- 7.526192 --- PERSON\n",
      "de la --- 225602 --- 225607 --- 5.957851 --- PERSON\n",
      "de la --- 225988 --- 225993 --- 6.601573 --- PERSON\n",
      "zenecas --- 230982 --- 230989 --- 7.307233 --- ORG\n",
      "friday --- 235024 --- 235030 --- 7.372695 --- DATE\n",
      "second --- 236481 --- 236487 --- 7.4433155 --- ORDINAL\n",
      "explique --- 247911 --- 247919 --- 6.589146 --- CARDINAL\n",
      "zero --- 249930 --- 249934 --- 8.032497 --- CARDINAL\n",
      "years --- 259203 --- 259208 --- 7.2666445 --- DATE\n",
      "week --- 260272 --- 260276 --- 7.1095624 --- DATE\n",
      "american --- 266134 --- 266142 --- 7.676312 --- NORP\n",
      "april --- 266536 --- 266541 --- 7.2620273 --- DATE\n",
      "daily --- 266983 --- 266988 --- 7.5823054 --- DATE\n",
      "today --- 267790 --- 267795 --- 9.087568 --- DATE\n",
      "de --- 269399 --- 269401 --- 8.169043 --- PERSON\n",
      "xham --- 270515 --- 270519 --- 8.055778 --- DATE\n",
      "tuesday --- 273409 --- 273416 --- 8.571325 --- DATE\n",
      "tuesday --- 274844 --- 274851 --- 7.2206573 --- DATE\n",
      "british --- 274852 --- 274859 --- 7.910155 --- NORP\n",
      "tomorrow --- 276025 --- 276033 --- 9.059057 --- DATE\n",
      "zenecas --- 276980 --- 276987 --- 6.3172026 --- GPE\n",
      "half --- 280063 --- 280067 --- 8.076383 --- CARDINAL\n",
      "india --- 282018 --- 282023 --- 7.0551095 --- GPE\n",
      "early days --- 287546 --- 287556 --- 5.36822 --- DATE\n",
      "zenecas --- 289241 --- 289248 --- 7.0017896 --- GPE\n",
      "coming days --- 290081 --- 290092 --- 6.0409584 --- DATE\n",
      "xylwmsj --- 290848 --- 290855 --- 7.069057 --- GPE\n",
      "year --- 293890 --- 293894 --- 7.8258715 --- DATE\n",
      "american --- 298659 --- 298667 --- 7.7062974 --- NORP\n",
      "american --- 298851 --- 298859 --- 7.6011257 --- NORP\n",
      "american --- 299177 --- 299185 --- 7.676312 --- NORP\n",
      "half --- 300815 --- 300819 --- 8.080872 --- CARDINAL\n",
      "secondary --- 301003 --- 301012 --- 8.135565 --- ORDINAL\n",
      "american --- 302673 --- 302681 --- 7.7577543 --- NORP\n",
      "month --- 302776 --- 302781 --- 7.163135 --- DATE\n",
      "india --- 304334 --- 304339 --- 6.610917 --- GPE\n",
      "india --- 304502 --- 304507 --- 7.131503 --- GPE\n",
      "india --- 304533 --- 304538 --- 7.3270693 --- GPE\n",
      "india --- 306094 --- 306099 --- 7.4156322 --- GPE\n",
      "india --- 306338 --- 306343 --- 7.653145 --- GPE\n",
      "yesterday --- 306637 --- 306646 --- 9.192868 --- DATE\n",
      "yesterday --- 309503 --- 309512 --- 9.1173725 --- DATE\n",
      "second --- 310522 --- 310528 --- 7.17905 --- ORDINAL\n",
      "years --- 317207 --- 317212 --- 6.476488 --- DATE\n",
      "months --- 317272 --- 317278 --- 7.377413 --- DATE\n",
      "american --- 318114 --- 318122 --- 7.662875 --- NORP\n",
      "today --- 318328 --- 318333 --- 8.511904 --- DATE\n",
      "months --- 320439 --- 320445 --- 7.293932 --- DATE\n",
      "annual --- 325956 --- 325962 --- 8.105125 --- DATE\n",
      "month --- 338396 --- 338401 --- 6.551537 --- DATE\n",
      "months --- 341918 --- 341924 --- 7.3811235 --- DATE\n",
      "month --- 342480 --- 342485 --- 7.0977764 --- DATE\n",
      "months --- 343256 --- 343262 --- 7.116751 --- DATE\n",
      "monthly --- 343769 --- 343776 --- 7.914201 --- DATE\n",
      "months --- 345935 --- 345941 --- 7.235014 --- DATE\n",
      "months --- 348081 --- 348087 --- 6.7866087 --- DATE\n",
      "weeks ago --- 349844 --- 349853 --- 5.918373 --- DATE\n",
      "months --- 351471 --- 351477 --- 8.183948 --- DATE\n",
      "highlights day --- 352271 --- 352285 --- 5.8949366 --- DATE\n",
      "daily --- 352916 --- 352921 --- 7.8907056 --- DATE\n",
      "month --- 354650 --- 354655 --- 6.471174 --- DATE\n",
      "morning --- 356681 --- 356688 --- 7.5046196 --- TIME\n",
      "million --- 359918 --- 359925 --- 7.2133865 --- CARDINAL\n",
      "bbpmzcicdq --- 361073 --- 361083 --- 7.59652 --- CARDINAL\n",
      "thursday --- 362353 --- 362361 --- 7.6101985 --- DATE\n",
      "november --- 362362 --- 362370 --- 7.2359776 --- DATE\n",
      "news week --- 362851 --- 362860 --- 6.301926 --- DATE\n",
      "second --- 363045 --- 363051 --- 7.375994 --- ORDINAL\n",
      "second --- 371155 --- 371161 --- 6.977234 --- ORDINAL\n",
      "second --- 374781 --- 374787 --- 7.271385 --- ORDINAL\n",
      "today --- 376098 --- 376103 --- 9.264402 --- DATE\n",
      "november --- 377669 --- 377677 --- 6.7365355 --- DATE\n",
      "india --- 377706 --- 377711 --- 7.1438537 --- GPE\n",
      "zydus --- 377841 --- 377846 --- 7.5446506 --- CARDINAL\n",
      "months --- 377928 --- 377934 --- 7.19436 --- DATE\n",
      "esnyesterday --- 378344 --- 378356 --- 6.600595 --- DATE\n",
      "second --- 378369 --- 378375 --- 7.2689915 --- ORDINAL\n",
      "second --- 378949 --- 378955 --- 7.4318256 --- ORDINAL\n",
      "second --- 379298 --- 379304 --- 7.2161746 --- ORDINAL\n",
      "today --- 379344 --- 379349 --- 8.572172 --- DATE\n",
      "thursday --- 380743 --- 380751 --- 7.6101985 --- DATE\n",
      "november --- 380752 --- 380760 --- 7.2359776 --- DATE\n",
      "zrxkox --- 381479 --- 381485 --- 6.6571183 --- DATE\n",
      "november --- 381915 --- 381923 --- 6.528875 --- DATE\n",
      "second --- 386272 --- 386278 --- 7.308494 --- ORDINAL\n",
      "annual --- 392590 --- 392596 --- 7.805245 --- DATE\n",
      "annual --- 392720 --- 392726 --- 7.873024 --- DATE\n",
      "annual --- 392995 --- 393001 --- 8.075107 --- DATE\n",
      "annual --- 393646 --- 393652 --- 7.9250116 --- DATE\n",
      "azn busy year --- 393812 --- 393825 --- 4.9396753 --- DATE\n",
      "weeks ago --- 396631 --- 396640 --- 5.90754 --- DATE\n",
      "al morning --- 396690 --- 396700 --- 5.667586 --- TIME\n",
      "year --- 396859 --- 396863 --- 6.967808 --- DATE\n",
      "decade --- 397089 --- 397095 --- 7.278409 --- DATE\n",
      "today --- 400886 --- 400891 --- 8.139022 --- DATE\n",
      "second --- 401632 --- 401638 --- 7.6537104 --- ORDINAL\n",
      "second --- 402091 --- 402097 --- 7.6537104 --- ORDINAL\n",
      "today --- 403889 --- 403894 --- 7.496722 --- DATE\n",
      "second --- 405356 --- 405362 --- 6.974322 --- ORDINAL\n",
      "today --- 411759 --- 411764 --- 8.411685 --- DATE\n",
      "today --- 412537 --- 412542 --- 8.772399 --- DATE\n",
      "al zanubrutinib --- 416844 --- 416859 --- 5.5293374 --- PERSON\n",
      "ehacongress month --- 418080 --- 418097 --- 6.0264025 --- DATE\n",
      "second --- 422862 --- 422868 --- 7.0811186 --- ORDINAL\n",
      "second --- 425570 --- 425576 --- 7.0811186 --- ORDINAL\n",
      "seven --- 431056 --- 431061 --- 8.524345 --- CARDINAL\n",
      "month --- 435447 --- 435452 --- 7.400283 --- DATE\n",
      "today --- 436834 --- 436839 --- 9.106119 --- DATE\n",
      "years --- 437609 --- 437614 --- 6.516393 --- DATE\n",
      "tomorrow --- 438694 --- 438702 --- 8.816525 --- DATE\n",
      "prior treatment month --- 439915 --- 439936 --- 5.5162024 --- DATE\n",
      "month --- 439990 --- 439995 --- 7.356104 --- DATE\n",
      "annual --- 440014 --- 440020 --- 8.302759 --- DATE\n",
      "second --- 441002 --- 441008 --- 7.840018 --- ORDINAL\n",
      "second --- 442411 --- 442417 --- 7.8215938 --- ORDINAL\n",
      "second --- 443217 --- 443223 --- 7.8525095 --- ORDINAL\n",
      "second --- 444689 --- 444695 --- 7.8215938 --- ORDINAL\n",
      "second --- 445238 --- 445244 --- 7.840018 --- ORDINAL\n",
      "second --- 445297 --- 445303 --- 7.4330482 --- ORDINAL\n",
      "second --- 448680 --- 448686 --- 6.7801795 --- ORDINAL\n",
      "year --- 450594 --- 450598 --- 6.9473233 --- DATE\n",
      "second --- 451722 --- 451728 --- 6.8861275 --- ORDINAL\n",
      "years --- 453224 --- 453229 --- 6.516393 --- DATE\n",
      "fortyseven --- 457854 --- 457864 --- 6.6069393 --- CARDINAL\n",
      "chinese --- 466574 --- 466581 --- 7.8644166 --- NORP\n",
      "today --- 468681 --- 468686 --- 8.53831 --- DATE\n",
      "annual --- 474679 --- 474685 --- 8.100518 --- DATE\n",
      "year --- 482548 --- 482552 --- 7.544341 --- DATE\n",
      "years --- 482688 --- 482693 --- 8.145484 --- DATE\n",
      "annual --- 483107 --- 483113 --- 7.981578 --- DATE\n",
      "november years later --- 483487 --- 483507 --- 5.2937183 --- DATE\n",
      "second --- 483522 --- 483528 --- 7.6940565 --- ORDINAL\n",
      "october --- 483554 --- 483561 --- 7.3196 --- DATE\n",
      "today --- 484868 --- 484873 --- 7.9490914 --- DATE\n",
      "today --- 486907 --- 486912 --- 8.86837 --- DATE\n",
      "months --- 487913 --- 487919 --- 6.952891 --- DATE\n",
      "annual --- 488743 --- 488749 --- 8.514376 --- DATE\n",
      "years --- 491137 --- 491142 --- 6.587302 --- DATE\n",
      "receipt month --- 491234 --- 491247 --- 5.8321214 --- DATE\n",
      "multibillion --- 491686 --- 491698 --- 6.9928365 --- CARDINAL\n",
      "tonight --- 498250 --- 498257 --- 8.884265 --- TIME\n",
      "weekly --- 501738 --- 501744 --- 7.6322193 --- DATE\n",
      "tonight --- 501803 --- 501810 --- 9.097598 --- TIME\n",
      "months --- 503447 --- 503453 --- 8.409716 --- DATE\n",
      "today --- 505479 --- 505484 --- 9.896457 --- DATE\n",
      "weekly --- 512530 --- 512536 --- 6.818949 --- DATE\n",
      "weeks --- 539449 --- 539454 --- 7.4388094 --- DATE\n",
      "friday --- 540761 --- 540767 --- 7.1578927 --- DATE\n",
      "fourth quarter billion --- 540795 --- 540817 --- 5.008669 --- DATE\n",
      "friday --- 540983 --- 540989 --- 7.1578927 --- DATE\n",
      "fourth quarter billion --- 541017 --- 541039 --- 5.008669 --- DATE\n",
      "friday --- 541213 --- 541219 --- 7.1578927 --- DATE\n",
      "fourth quarter billion --- 541247 --- 541269 --- 5.008669 --- DATE\n",
      "second --- 549919 --- 549925 --- 6.966827 --- ORDINAL\n",
      "second --- 550120 --- 550126 --- 6.8221903 --- ORDINAL\n",
      "sunday --- 550521 --- 550527 --- 6.860229 --- DATE\n",
      "weeks --- 553186 --- 553191 --- 7.5778284 --- DATE\n",
      "today --- 553283 --- 553288 --- 8.749431 --- DATE\n",
      "today --- 556780 --- 556785 --- 8.593896 --- DATE\n",
      "today --- 557028 --- 557033 --- 8.4492655 --- DATE\n",
      "today --- 557778 --- 557783 --- 9.189157 --- DATE\n",
      "today --- 558764 --- 558769 --- 7.684472 --- DATE\n",
      "mmwgvytyatoday --- 561757 --- 561771 --- 8.386596 --- DATE\n",
      "today --- 562187 --- 562192 --- 7.4770093 --- DATE\n",
      "today --- 562563 --- 562568 --- 7.3376503 --- DATE\n",
      "zero --- 564780 --- 564784 --- 7.960899 --- CARDINAL\n",
      "second --- 564899 --- 564905 --- 6.823263 --- ORDINAL\n",
      "american --- 565571 --- 565579 --- 7.586451 --- NORP\n",
      "annual --- 565599 --- 565605 --- 8.527949 --- DATE\n",
      "american --- 565784 --- 565792 --- 7.586451 --- NORP\n",
      "annual --- 565812 --- 565818 --- 8.527949 --- DATE\n",
      "american --- 566003 --- 566011 --- 7.586451 --- NORP\n",
      "annual --- 566031 --- 566037 --- 8.527949 --- DATE\n",
      "tuesday --- 572328 --- 572335 --- 7.7211375 --- DATE\n",
      "october --- 572336 --- 572343 --- 7.438858 --- DATE\n",
      "mm --- 576926 --- 576928 --- 6.445686 --- PERSON\n",
      "months --- 579390 --- 579396 --- 7.8728485 --- DATE\n",
      "tuesday --- 580996 --- 581003 --- 8.18689 --- DATE\n",
      "healthday --- 590765 --- 590774 --- 7.052969 --- DATE\n",
      "second --- 593955 --- 593961 --- 7.3739557 --- ORDINAL\n",
      "tuesday --- 599579 --- 599586 --- 7.001075 --- DATE\n",
      "healthday --- 599591 --- 599600 --- 6.973771 --- DATE\n",
      "tuesday --- 599776 --- 599783 --- 7.7211375 --- DATE\n",
      "october --- 599784 --- 599791 --- 7.44078 --- DATE\n",
      "monthly --- 604495 --- 604502 --- 7.614885 --- DATE\n",
      "london --- 608122 --- 608128 --- 7.2772665 --- GPE\n",
      "today --- 609643 --- 609648 --- 8.962061 --- DATE\n",
      "months --- 612514 --- 612520 --- 7.008898 --- DATE\n",
      "months --- 612547 --- 612553 --- 7.856443 --- DATE\n",
      "second --- 624147 --- 624153 --- 7.1374974 --- ORDINAL\n",
      "hdzmzearlier week --- 624881 --- 624898 --- 5.8957896 --- DATE\n",
      "second --- 633199 --- 633205 --- 7.6547604 --- ORDINAL\n",
      "jqmlb sdaryesterday --- 633636 --- 633655 --- 5.934938 --- DATE\n",
      "zenecas --- 634990 --- 634997 --- 7.0127606 --- GPE\n",
      "days --- 637609 --- 637613 --- 7.5060954 --- DATE\n",
      "dxcmrtxuyesterday --- 640753 --- 640770 --- 8.05723 --- DATE\n",
      "today --- 640826 --- 640831 --- 8.065113 --- DATE\n",
      "zenecas --- 641200 --- 641207 --- 6.2840104 --- GPE\n",
      "second --- 642001 --- 642007 --- 7.2357273 --- ORDINAL\n",
      "days --- 642033 --- 642037 --- 7.280011 --- DATE\n",
      "japanese --- 643187 --- 643195 --- 7.8905196 --- NORP\n",
      "final week june --- 643270 --- 643285 --- 5.1408563 --- DATE\n",
      "second --- 661731 --- 661737 --- 7.724959 --- ORDINAL\n",
      "india --- 668713 --- 668718 --- 7.494985 --- GPE\n",
      "india --- 668923 --- 668928 --- 7.0812783 --- GPE\n",
      "second --- 674413 --- 674419 --- 6.713247 --- ORDINAL\n",
      "second --- 676871 --- 676877 --- 7.2352943 --- ORDINAL\n",
      "second --- 680516 --- 680522 --- 7.134907 --- ORDINAL\n",
      "nearly billion --- 680693 --- 680707 --- 6.464534 --- CARDINAL\n",
      "today --- 682794 --- 682799 --- 8.723373 --- DATE\n",
      "monday --- 683787 --- 683793 --- 7.364286 --- DATE\n",
      "today --- 685911 --- 685916 --- 8.424976 --- DATE\n",
      "night --- 690116 --- 690121 --- 7.875315 --- TIME\n",
      "year old --- 690741 --- 690749 --- 5.5601006 --- DATE\n",
      "tomorrow --- 690844 --- 690852 --- 8.866886 --- DATE\n",
      "weeks --- 691175 --- 691180 --- 6.6437826 --- DATE\n",
      "today --- 692646 --- 692651 --- 8.149741 --- DATE\n",
      "weeks ago --- 695487 --- 695496 --- 6.0493174 --- DATE\n",
      "monday --- 695502 --- 695508 --- 7.708438 --- DATE\n",
      "years year --- 696898 --- 696908 --- 6.200856 --- DATE\n",
      "friday --- 697529 --- 697535 --- 6.762643 --- DATE\n",
      "zzhelping --- 697732 --- 697741 --- 7.6060658 --- TIME\n",
      "fourth --- 697791 --- 697797 --- 7.6405716 --- ORDINAL\n",
      "tuesday --- 700200 --- 700207 --- 7.3928013 --- DATE\n",
      "tuesday --- 701470 --- 701477 --- 7.9429903 --- DATE\n",
      "recent years --- 701648 --- 701660 --- 5.426493 --- DATE\n",
      "today --- 702110 --- 702115 --- 9.081027 --- DATE\n",
      "today --- 702998 --- 703003 --- 8.499185 --- DATE\n",
      "jab weeks ago --- 703719 --- 703732 --- 5.427389 --- DATE\n",
      "zenecas --- 703795 --- 703802 --- 6.524508 --- GPE\n",
      "saturday --- 703912 --- 703920 --- 7.2966385 --- DATE\n",
      "hour --- 704030 --- 704034 --- 7.4810877 --- TIME\n",
      "mm --- 705958 --- 705960 --- 6.649119 --- PERSON\n",
      "year old --- 709039 --- 709047 --- 5.5601006 --- DATE\n",
      "year --- 712626 --- 712630 --- 6.6909227 --- DATE\n",
      "year --- 714027 --- 714031 --- 7.312204 --- DATE\n",
      "al --- 714778 --- 714780 --- 7.1894584 --- PERSON\n",
      "today --- 716452 --- 716457 --- 7.958967 --- DATE\n",
      "today --- 719431 --- 719436 --- 8.227891 --- DATE\n",
      "today --- 719714 --- 719719 --- 8.675256 --- DATE\n",
      "days --- 720046 --- 720050 --- 7.1915326 --- DATE\n",
      "second --- 721253 --- 721259 --- 7.0318894 --- ORDINAL\n",
      "second --- 721803 --- 721809 --- 6.9593415 --- ORDINAL\n",
      "second --- 722605 --- 722611 --- 6.9573946 --- ORDINAL\n",
      "second --- 722779 --- 722785 --- 7.072423 --- ORDINAL\n",
      "annual --- 724644 --- 724650 --- 7.3146663 --- DATE\n",
      "morning --- 725791 --- 725798 --- 7.07326 --- TIME\n",
      "summer --- 729336 --- 729342 --- 7.5629663 --- DATE\n",
      "month --- 730556 --- 730561 --- 6.982453 --- DATE\n",
      "year --- 731950 --- 731954 --- 6.9104156 --- DATE\n",
      "morning --- 732393 --- 732400 --- 7.766975 --- TIME\n",
      "second --- 733835 --- 733841 --- 7.36863 --- ORDINAL\n",
      "today --- 735730 --- 735735 --- 8.034561 --- DATE\n",
      "year --- 735928 --- 735932 --- 6.983013 --- DATE\n",
      "thursday --- 741515 --- 741523 --- 7.3995104 --- DATE\n",
      "million --- 742332 --- 742339 --- 8.178673 --- CARDINAL\n",
      "week --- 744745 --- 744749 --- 7.4067745 --- DATE\n",
      "friday --- 744755 --- 744761 --- 7.3405075 --- DATE\n",
      "today --- 744866 --- 744871 --- 8.963281 --- DATE\n",
      "years --- 745252 --- 745257 --- 8.076023 --- DATE\n",
      "eric --- 747908 --- 747912 --- 7.134213 --- PERSON\n",
      "today --- 749950 --- 749955 --- 9.119434 --- DATE\n",
      "british --- 750538 --- 750545 --- 7.188965 --- NORP\n",
      "india --- 750921 --- 750926 --- 7.0115795 --- GPE\n",
      "secondary --- 751562 --- 751571 --- 8.879267 --- ORDINAL\n",
      "eric --- 751940 --- 751944 --- 7.144603 --- PERSON\n",
      "winter --- 755939 --- 755945 --- 8.374118 --- DATE\n",
      "tomorrow --- 756813 --- 756821 --- 8.526822 --- DATE\n",
      "year --- 760974 --- 760978 --- 7.4448233 --- DATE\n",
      "months ago --- 761864 --- 761874 --- 6.2501454 --- DATE\n",
      "lymphomaday --- 762555 --- 762566 --- 7.9901285 --- DATE\n",
      "hematologytoday --- 763487 --- 763502 --- 6.8367476 --- DATE\n",
      "big month --- 763685 --- 763694 --- 5.2002525 --- DATE\n",
      "wrote months --- 763885 --- 763897 --- 4.89212 --- DATE\n",
      "today --- 764050 --- 764055 --- 8.8218975 --- DATE\n",
      "tonight --- 765697 --- 765704 --- 8.312833 --- TIME\n",
      "evening --- 768876 --- 768883 --- 6.9530015 --- TIME\n",
      "april --- 770356 --- 770361 --- 6.3263826 --- DATE\n",
      "today --- 775230 --- 775235 --- 7.941791 --- DATE\n",
      "tomorrow --- 775612 --- 775620 --- 8.547801 --- DATE\n",
      "today --- 775760 --- 775765 --- 9.18428 --- DATE\n",
      "thursday --- 775985 --- 775993 --- 8.532239 --- DATE\n",
      "nkx --- 776618 --- 776621 --- 6.2226796 --- CARDINAL\n",
      "nkx --- 776957 --- 776960 --- 6.2226796 --- CARDINAL\n",
      "million --- 782091 --- 782098 --- 7.972278 --- CARDINAL\n",
      "days --- 782312 --- 782316 --- 7.452409 --- DATE\n",
      "year --- 782853 --- 782857 --- 7.355832 --- DATE\n",
      "week --- 784180 --- 784184 --- 6.244514 --- DATE\n",
      "friday --- 787645 --- 787651 --- 7.197879 --- DATE\n",
      "week --- 788337 --- 788341 --- 6.756246 --- DATE\n",
      "hourly --- 788438 --- 788444 --- 7.764584 --- TIME\n",
      "friday --- 789808 --- 789814 --- 7.223533 --- DATE\n",
      "second --- 790822 --- 790828 --- 7.56055 --- ORDINAL\n",
      "thursday --- 791127 --- 791135 --- 8.377263 --- DATE\n",
      "tomorrow --- 792396 --- 792404 --- 8.95286 --- DATE\n",
      "today --- 792538 --- 792543 --- 8.97616 --- DATE\n",
      "february pm --- 792551 --- 792562 --- 5.670907 --- TIME\n",
      "secondary --- 792872 --- 792881 --- 8.507237 --- ORDINAL\n",
      "secondary --- 793680 --- 793689 --- 8.507237 --- ORDINAL\n",
      "tuesday --- 793867 --- 793874 --- 7.690368 --- DATE\n",
      "monday --- 794764 --- 794770 --- 7.052249 --- DATE\n",
      "february pm --- 794771 --- 794782 --- 5.546114 --- TIME\n",
      "mm --- 795525 --- 795527 --- 5.75319 --- PERSON\n",
      "today --- 796876 --- 796881 --- 7.8581657 --- DATE\n",
      "night --- 798854 --- 798859 --- 7.7456975 --- TIME\n",
      "saturday --- 798979 --- 798987 --- 6.6207585 --- DATE\n",
      "today --- 799031 --- 799036 --- 9.319165 --- DATE\n",
      "afternoon --- 800343 --- 800352 --- 7.9478045 --- TIME\n",
      "year winter --- 801458 --- 801469 --- 7.1380224 --- DATE\n",
      "friday --- 801571 --- 801577 --- 8.315719 --- DATE\n",
      "years --- 801602 --- 801607 --- 7.35112 --- DATE\n",
      "week --- 802003 --- 802007 --- 7.1717224 --- DATE\n",
      "today --- 802425 --- 802430 --- 8.936785 --- DATE\n",
      "monday --- 805717 --- 805723 --- 7.0438657 --- DATE\n",
      "february pm --- 805724 --- 805735 --- 5.546114 --- TIME\n",
      "today --- 807702 --- 807707 --- 8.6613035 --- DATE\n",
      "nightly --- 807722 --- 807729 --- 7.9690146 --- DATE\n",
      "annual --- 807903 --- 807909 --- 7.466858 --- DATE\n",
      "sharon --- 810288 --- 810294 --- 6.808842 --- PERSON\n",
      "second --- 811351 --- 811357 --- 7.254526 --- ORDINAL\n",
      "second --- 811363 --- 811369 --- 6.677196 --- ORDINAL\n",
      "monday --- 812616 --- 812622 --- 7.0477886 --- DATE\n",
      "february pm --- 812623 --- 812634 --- 5.546114 --- TIME\n",
      "today --- 816069 --- 816074 --- 8.853147 --- DATE\n",
      "years --- 816152 --- 816157 --- 7.1785994 --- DATE\n",
      "recent billion --- 817395 --- 817409 --- 6.2483907 --- CARDINAL\n",
      "year --- 817572 --- 817576 --- 7.179367 --- DATE\n",
      "today --- 817931 --- 817936 --- 9.59016 --- DATE\n",
      "monday --- 818084 --- 818090 --- 7.047527 --- DATE\n",
      "february pm --- 818091 --- 818102 --- 5.546114 --- TIME\n",
      "today --- 819751 --- 819756 --- 9.156093 --- DATE\n",
      "qnjwxtoday --- 819958 --- 819968 --- 7.8797274 --- DATE\n",
      "eietvoxqibtoday --- 820149 --- 820164 --- 8.359659 --- DATE\n",
      "sytoday --- 820345 --- 820352 --- 8.319495 --- DATE\n",
      "bloodcancertoday --- 820645 --- 820661 --- 7.1988955 --- DATE\n",
      "monday --- 825258 --- 825264 --- 7.0455365 --- DATE\n",
      "february pm --- 825265 --- 825276 --- 5.5412207 --- TIME\n",
      "millions --- 827426 --- 827434 --- 7.0648665 --- CARDINAL\n",
      "millions --- 829111 --- 829119 --- 7.3174977 --- CARDINAL\n",
      "today --- 832175 --- 832180 --- 9.134845 --- DATE\n",
      "today --- 835381 --- 835386 --- 7.82823 --- DATE\n",
      "today --- 835626 --- 835631 --- 8.036235 --- DATE\n",
      "today --- 835806 --- 835811 --- 8.867235 --- DATE\n",
      "covidvaccination week --- 837037 --- 837058 --- 6.5826645 --- DATE\n",
      "today --- 838391 --- 838396 --- 8.283804 --- DATE\n",
      "second --- 839195 --- 839201 --- 7.7189636 --- ORDINAL\n",
      "republicday --- 841429 --- 841440 --- 7.0804515 --- DATE\n",
      "republicday --- 841458 --- 841469 --- 8.06991 --- DATE\n",
      "years --- 842514 --- 842519 --- 6.706978 --- DATE\n",
      "january pm --- 845477 --- 845487 --- 4.879285 --- TIME\n",
      "year --- 845902 --- 845906 --- 7.2508345 --- DATE\n",
      "tonight pm --- 847062 --- 847072 --- 6.362633 --- TIME\n",
      "year --- 847326 --- 847330 --- 7.202365 --- DATE\n",
      "million --- 848743 --- 848750 --- 7.972278 --- CARDINAL\n",
      "today --- 853732 --- 853737 --- 7.792974 --- DATE\n",
      "million --- 854402 --- 854409 --- 7.972278 --- CARDINAL\n",
      "million --- 855339 --- 855346 --- 7.972278 --- CARDINAL\n",
      "today --- 855884 --- 855889 --- 8.070691 --- DATE\n",
      "afternoon --- 858918 --- 858927 --- 7.678646 --- TIME\n",
      "american --- 860794 --- 860802 --- 8.048838 --- NORP\n",
      "american --- 863527 --- 863535 --- 7.5719466 --- NORP\n",
      "today --- 868602 --- 868607 --- 8.779586 --- DATE\n",
      "american --- 870490 --- 870498 --- 8.048838 --- NORP\n",
      "american --- 871694 --- 871702 --- 7.7429104 --- NORP\n",
      "hours --- 873655 --- 873660 --- 7.7157164 --- TIME\n",
      "night --- 874974 --- 874979 --- 7.072337 --- TIME\n",
      "zoster --- 878239 --- 878245 --- 6.64606 --- CARDINAL\n",
      "al --- 880313 --- 880315 --- 7.8082194 --- PERSON\n",
      "american --- 882154 --- 882162 --- 7.518315 --- NORP\n",
      "today --- 882789 --- 882794 --- 7.7670784 --- DATE\n",
      "annually --- 882877 --- 882885 --- 8.50092 --- DATE\n",
      "second --- 885128 --- 885134 --- 7.334852 --- ORDINAL\n",
      "year --- 885889 --- 885893 --- 7.215854 --- DATE\n",
      "september --- 886784 --- 886793 --- 6.983231 --- DATE\n",
      "monthly --- 887611 --- 887618 --- 8.288832 --- DATE\n",
      "billion --- 889434 --- 889441 --- 8.031328 --- CARDINAL\n",
      "days --- 892123 --- 892127 --- 6.9759164 --- DATE\n",
      "year --- 893610 --- 893614 --- 7.355832 --- DATE\n",
      "annual --- 895390 --- 895396 --- 7.9211373 --- DATE\n",
      "today --- 895812 --- 895817 --- 9.330011 --- DATE\n",
      "mm --- 896122 --- 896124 --- 6.418185 --- PERSON\n",
      "annual --- 899289 --- 899295 --- 8.117149 --- DATE\n",
      "zy hour --- 905031 --- 905038 --- 5.66771 --- TIME\n",
      "months --- 905054 --- 905060 --- 8.015687 --- DATE\n",
      "year old --- 906947 --- 906955 --- 5.5635285 --- DATE\n",
      "year --- 907236 --- 907240 --- 7.225711 --- DATE\n",
      "years --- 909769 --- 909774 --- 7.1607323 --- DATE\n",
      "september --- 913800 --- 913809 --- 7.3519645 --- DATE\n",
      "monday --- 914017 --- 914023 --- 7.1095667 --- DATE\n",
      "winter --- 916427 --- 916433 --- 7.8827753 --- DATE\n",
      "years --- 917322 --- 917327 --- 7.148917 --- DATE\n",
      "years ago --- 918274 --- 918283 --- 5.798051 --- DATE\n",
      "today --- 918720 --- 918725 --- 8.897745 --- DATE\n",
      "american --- 919241 --- 919249 --- 8.253246 --- NORP\n",
      "year --- 920138 --- 920142 --- 6.770019 --- DATE\n"
     ]
    }
   ],
   "source": [
    "for token in doc.ents:\n",
    "    print(token.text,'---',token.start_char,'---',token.end_char,'---',token.vector_norm,'---',token.label_)"
   ]
  },
  {
   "cell_type": "markdown",
   "metadata": {},
   "source": [
    "###  counting word frequency of each entities "
   ]
  },
  {
   "cell_type": "code",
   "execution_count": 94,
   "metadata": {},
   "outputs": [],
   "source": [
    "tup = str(doc.ents) "
   ]
  },
  {
   "cell_type": "code",
   "execution_count": 97,
   "metadata": {},
   "outputs": [],
   "source": [
    "wordlist = tup.split()"
   ]
  },
  {
   "cell_type": "code",
   "execution_count": 99,
   "metadata": {},
   "outputs": [],
   "source": [
    "wordfreq = []\n",
    "for w in wordlist:\n",
    "    wordfreq.append(wordlist.count(w))"
   ]
  },
  {
   "cell_type": "code",
   "execution_count": 137,
   "metadata": {},
   "outputs": [
    {
     "name": "stdout",
     "output_type": "stream",
     "text": [
      "Words--Frequency\n",
      "[('(yesterday,', 1), ('march', 1), ('pm,', 11), ('today,', 63), ('thursday,', 8), ('daily,', 5), ('today,', 63), ('thursday,', 8), ('recent', 3), ('years,', 36), ('tuesday,', 10), ('second,', 47), ('second,', 47), ('secondary,', 5), ('quarter,', 2), ('sarahcannondocs,', 2), ('months,', 21), ('months,', 21), ('months,', 21), ('seven,', 2), ('today,', 63), ('night,', 12), ('year,', 37), ('year,', 37), ('year,', 37), ('year,', 37), ('year,', 37), ('year,', 37), ('year,', 37), ('year,', 37), ('monday,', 9), ('year,', 37), ('years,', 36), ('years,', 36), ('years,', 36), ('years,', 36), ('years,', 36), ('years,', 36), ('today,', 63), ('years,', 36), ('years,', 36), ('years,', 36), ('years,', 36), ('years,', 36), ('years,', 36), ('years,', 36), ('years,', 36), ('years,', 36), ('years,', 36), ('years,', 36), ('years,', 36), ('years,', 36), ('years,', 36), ('year,', 37), ('year,', 37), ('year,', 37), ('year,', 37), ('year,', 37), ('year,', 37), ('night,', 12), ('year,', 37), ('year,', 37), ('year,', 37), ('year,', 37), ('night,', 12), ('night,', 12), ('night,', 12), ('night,', 12), ('november', 3), ('pm,', 11), ('night,', 12), ('fdhqnumcqa,', 1), ('night,', 12), ('night,', 12), ('november', 3), ('pm,', 11), ('endpointastrazenecas,', 1), ('today,', 63), ('thursday,', 8), ('mm,', 5), ('month,', 15), ('american,', 19), ('india,', 32), ('india,', 32), ('india,', 32), ('india,', 32), ('india,', 32), ('india,', 32), ('india,', 32), ('india,', 32), ('india,', 32), ('friday,', 10), ('india,', 32), ('india,', 32), ('october,', 9), ('october,', 9), ('morning', 1), ('exclusive', 1), ('morning,', 5), ('october,', 9), ('india,', 32), ('india,', 32), ('india,', 32), ('october,', 9), ('india,', 32), ('october', 1), ('kpmg,', 1), ('october,', 9), ('india,', 32), ('india,', 32), ('october,', 9), ('india,', 32), ('india,', 32), ('india,', 32), ('weeks,', 5), ('september,', 3), ('second,', 47), ('month,', 15), ('half', 1), ('billion', 1), ('dollars,', 1), ('zenecas,', 7), ('sarahcannondocs,', 2), ('mavtwbj,', 1), ('oh', 1), ('seyzyucprice', 1), ('month,', 15), ('india,', 32), ('daily,', 5), ('sll', 1), ('quarter,', 2), ('american,', 19), ('american,', 19), ('american,', 19), ('months,', 21), ('months,', 21), ('years,', 36), ('week,', 10), ('week,', 10), ('days,', 10), ('month,', 15), ('minutes', 1), ('weeks,', 5), ('today,', 63), ('dxtznlcxmuhealthday,', 1), ('months,', 21), ('years,', 36), ('india,', 32), ('severos,', 3), ('severos,', 3), ('today,', 63), ('republican,', 1), ('days,', 10), ('today,', 63), ('qdjtzoogw,', 1), ('severos,', 3), ('day,', 2), ('days,', 10), ('daily,', 5), ('al,', 3), ('de', 2), ('la,', 2), ('de', 2), ('la,', 2), ('zenecas,', 7), ('friday,', 10), ('second,', 47), ('explique,', 1), ('zero,', 2), ('years,', 36), ('week,', 10), ('american,', 19), ('april,', 2), ('daily,', 5), ('today,', 63), ('de,', 1), ('xham,', 1), ('tuesday,', 10), ('tuesday,', 10), ('british,', 2), ('tomorrow,', 6), ('zenecas,', 7), ('half,', 2), ('india,', 32), ('early', 1), ('days,', 10), ('zenecas,', 7), ('coming', 1), ('days,', 10), ('xylwmsj,', 1), ('year,', 37), ('american,', 19), ('american,', 19), ('american,', 19), ('half,', 2), ('secondary,', 5), ('american,', 19), ('month,', 15), ('india,', 32), ('india,', 32), ('india,', 32), ('india,', 32), ('india,', 32), ('yesterday,', 2), ('yesterday,', 2), ('second,', 47), ('years,', 36), ('months,', 21), ('american,', 19), ('today,', 63), ('months,', 21), ('annual,', 16), ('month,', 15), ('months,', 21), ('month,', 15), ('months,', 21), ('monthly,', 3), ('months,', 21), ('months,', 21), ('weeks', 4), ('ago,', 6), ('months,', 21), ('highlights', 1), ('day,', 2), ('daily,', 5), ('month,', 15), ('morning,', 5), ('million,', 6), ('bbpmzcicdq,', 1), ('thursday,', 8), ('november,', 4), ('news', 1), ('week,', 10), ('second,', 47), ('second,', 47), ('second,', 47), ('today,', 63), ('november,', 4), ('india,', 32), ('zydus,', 1), ('months,', 21), ('esnyesterday,', 1), ('second,', 47), ('second,', 47), ('second,', 47), ('today,', 63), ('thursday,', 8), ('november,', 4), ('zrxkox,', 1), ('november,', 4), ('second,', 47), ('annual,', 16), ('annual,', 16), ('annual,', 16), ('annual,', 16), ('azn', 1), ('busy', 1), ('year,', 37), ('weeks', 4), ('ago,', 6), ('al', 2), ('morning,', 5), ('year,', 37), ('decade,', 1), ('today,', 63), ('second,', 47), ('second,', 47), ('today,', 63), ('second,', 47), ('today,', 63), ('today,', 63), ('al', 2), ('zanubrutinib,', 1), ('ehacongress', 1), ('month,', 15), ('second,', 47), ('second,', 47), ('seven,', 2), ('month,', 15), ('today,', 63), ('years,', 36), ('tomorrow,', 6), ('prior', 1), ('treatment', 1), ('month,', 15), ('month,', 15), ('annual,', 16), ('second,', 47), ('second,', 47), ('second,', 47), ('second,', 47), ('second,', 47), ('second,', 47), ('second,', 47), ('year,', 37), ('second,', 47), ('years,', 36), ('fortyseven,', 1), ('chinese,', 1), ('today,', 63), ('annual,', 16), ('year,', 37), ('years,', 36), ('annual,', 16), ('november', 3), ('years', 3), ('later,', 1), ('second,', 47), ('october,', 9), ('today,', 63), ('today,', 63), ('months,', 21), ('annual,', 16), ('years,', 36), ('receipt', 1), ('month,', 15), ('multibillion,', 1), ('tonight,', 3), ('weekly,', 2), ('tonight,', 3), ('months,', 21), ('today,', 63), ('weekly,', 2), ('weeks,', 5), ('friday,', 10), ('fourth', 3), ('quarter', 3), ('billion,', 6), ('friday,', 10), ('fourth', 3), ('quarter', 3), ('billion,', 6), ('friday,', 10), ('fourth', 3), ('quarter', 3), ('billion,', 6), ('second,', 47), ('second,', 47), ('sunday,', 1), ('weeks,', 5), ('today,', 63), ('today,', 63), ('today,', 63), ('today,', 63), ('today,', 63), ('mmwgvytyatoday,', 1), ('today,', 63), ('today,', 63), ('zero,', 2), ('second,', 47), ('american,', 19), ('annual,', 16), ('american,', 19), ('annual,', 16), ('american,', 19), ('annual,', 16), ('tuesday,', 10), ('october,', 9), ('mm,', 5), ('months,', 21), ('tuesday,', 10), ('healthday,', 2), ('second,', 47), ('tuesday,', 10), ('healthday,', 2), ('tuesday,', 10), ('october,', 9), ('monthly,', 3), ('london,', 1), ('today,', 63), ('months,', 21), ('months,', 21), ('second,', 47), ('hdzmzearlier', 1), ('week,', 10), ('second,', 47), ('jqmlb', 1), ('sdaryesterday,', 1), ('zenecas,', 7), ('days,', 10), ('dxcmrtxuyesterday,', 1), ('today,', 63), ('zenecas,', 7), ('second,', 47), ('days,', 10), ('japanese,', 1), ('final', 1), ('week', 1), ('june,', 1), ('second,', 47), ('india,', 32), ('india,', 32), ('second,', 47), ('second,', 47), ('second,', 47), ('nearly', 1), ('billion,', 6), ('today,', 63), ('monday,', 9), ('today,', 63), ('night,', 12), ('year', 4), ('old,', 3), ('tomorrow,', 6), ('weeks,', 5), ('today,', 63), ('weeks', 4), ('ago,', 6), ('monday,', 9), ('years', 3), ('year,', 37), ('friday,', 10), ('zzhelping,', 1), ('fourth,', 1), ('tuesday,', 10), ('tuesday,', 10), ('recent', 3), ('years,', 36), ('today,', 63), ('today,', 63), ('jab', 1), ('weeks', 4), ('ago,', 6), ('zenecas,', 7), ('saturday,', 2), ('hour,', 2), ('mm,', 5), ('year', 4), ('old,', 3), ('year,', 37), ('year,', 37), ('al,', 3), ('today,', 63), ('today,', 63), ('today,', 63), ('days,', 10), ('second,', 47), ('second,', 47), ('second,', 47), ('second,', 47), ('annual,', 16), ('morning,', 5), ('summer,', 1), ('month,', 15), ('year,', 37), ('morning,', 5), ('second,', 47), ('today,', 63), ('year,', 37), ('thursday,', 8), ('million,', 6), ('week,', 10), ('friday,', 10), ('today,', 63), ('years,', 36), ('eric,', 2), ('today,', 63), ('british,', 2), ('india,', 32), ('secondary,', 5), ('eric,', 2), ('winter,', 3), ('tomorrow,', 6), ('year,', 37), ('months', 1), ('ago,', 6), ('lymphomaday,', 1), ('hematologytoday,', 1), ('big', 1), ('month,', 15), ('wrote', 1), ('months,', 21), ('today,', 63), ('tonight,', 3), ('evening,', 1), ('april,', 2), ('today,', 63), ('tomorrow,', 6), ('today,', 63), ('thursday,', 8), ('nkx,', 2), ('nkx,', 2), ('million,', 6), ('days,', 10), ('year,', 37), ('week,', 10), ('friday,', 10), ('week,', 10), ('hourly,', 1), ('friday,', 10), ('second,', 47), ('thursday,', 8), ('tomorrow,', 6), ('today,', 63), ('february', 6), ('pm,', 11), ('secondary,', 5), ('secondary,', 5), ('tuesday,', 10), ('monday,', 9), ('february', 6), ('pm,', 11), ('mm,', 5), ('today,', 63), ('night,', 12), ('saturday,', 2), ('today,', 63), ('afternoon,', 2), ('year', 4), ('winter,', 3), ('friday,', 10), ('years,', 36), ('week,', 10), ('today,', 63), ('monday,', 9), ('february', 6), ('pm,', 11), ('today,', 63), ('nightly,', 1), ('annual,', 16), ('sharon,', 1), ('second,', 47), ('second,', 47), ('monday,', 9), ('february', 6), ('pm,', 11), ('today,', 63), ('years,', 36), ('recent', 3), ('billion,', 6), ('year,', 37), ('today,', 63), ('monday,', 9), ('february', 6), ('pm,', 11), ('today,', 63), ('qnjwxtoday,', 1), ('eietvoxqibtoday,', 1), ('sytoday,', 1), ('bloodcancertoday,', 1), ('monday,', 9), ('february', 6), ('pm,', 11), ('millions,', 2), ('millions,', 2), ('today,', 63), ('today,', 63), ('today,', 63), ('today,', 63), ('covidvaccination', 1), ('week,', 10), ('today,', 63), ('second,', 47), ('republicday,', 2), ('republicday,', 2), ('years,', 36), ('january', 1), ('pm,', 11), ('year,', 37), ('tonight', 1), ('pm,', 11), ('year,', 37), ('million,', 6), ('today,', 63), ('million,', 6), ('million,', 6), ('today,', 63), ('afternoon,', 2), ('american,', 19), ('american,', 19), ('today,', 63), ('american,', 19), ('american,', 19), ('hours,', 1), ('night,', 12), ('zoster,', 1), ('al,', 3), ('american,', 19), ('today,', 63), ('annually,', 1), ('second,', 47), ('year,', 37), ('september,', 3), ('monthly,', 3), ('billion,', 6), ('days,', 10), ('year,', 37), ('annual,', 16), ('today,', 63), ('mm,', 5), ('annual,', 16), ('zy', 1), ('hour,', 2), ('months,', 21), ('year', 4), ('old,', 3), ('year,', 37), ('years,', 36), ('september,', 3), ('monday,', 9), ('winter,', 3), ('years,', 36), ('years', 3), ('ago,', 6), ('today,', 63), ('american,', 19), ('year)', 1)]\n"
     ]
    }
   ],
   "source": [
    "print(\"Words--Frequency\\n\" + str(list(zip(wordlist, wordfreq))))"
   ]
  },
  {
   "cell_type": "code",
   "execution_count": 135,
   "metadata": {},
   "outputs": [],
   "source": [
    "submission = pd.DataFrame()\n",
    "submission['entity'] = wordlist\n",
    "submission['frequency'] = wordfreq\n",
    "submission.to_csv('objective1.csv', index=False)"
   ]
  },
  {
   "cell_type": "code",
   "execution_count": 132,
   "metadata": {
    "scrolled": true
   },
   "outputs": [
    {
     "data": {
      "text/html": [
       "<div>\n",
       "<style scoped>\n",
       "    .dataframe tbody tr th:only-of-type {\n",
       "        vertical-align: middle;\n",
       "    }\n",
       "\n",
       "    .dataframe tbody tr th {\n",
       "        vertical-align: top;\n",
       "    }\n",
       "\n",
       "    .dataframe thead th {\n",
       "        text-align: right;\n",
       "    }\n",
       "</style>\n",
       "<table border=\"1\" class=\"dataframe\">\n",
       "  <thead>\n",
       "    <tr style=\"text-align: right;\">\n",
       "      <th></th>\n",
       "      <th>entity</th>\n",
       "      <th>frequency</th>\n",
       "    </tr>\n",
       "  </thead>\n",
       "  <tbody>\n",
       "    <tr>\n",
       "      <th>0</th>\n",
       "      <td>(yesterday,</td>\n",
       "      <td>1</td>\n",
       "    </tr>\n",
       "    <tr>\n",
       "      <th>1</th>\n",
       "      <td>march</td>\n",
       "      <td>1</td>\n",
       "    </tr>\n",
       "    <tr>\n",
       "      <th>2</th>\n",
       "      <td>pm,</td>\n",
       "      <td>11</td>\n",
       "    </tr>\n",
       "    <tr>\n",
       "      <th>3</th>\n",
       "      <td>today,</td>\n",
       "      <td>63</td>\n",
       "    </tr>\n",
       "    <tr>\n",
       "      <th>4</th>\n",
       "      <td>thursday,</td>\n",
       "      <td>8</td>\n",
       "    </tr>\n",
       "    <tr>\n",
       "      <th>...</th>\n",
       "      <td>...</td>\n",
       "      <td>...</td>\n",
       "    </tr>\n",
       "    <tr>\n",
       "      <th>602</th>\n",
       "      <td>years</td>\n",
       "      <td>3</td>\n",
       "    </tr>\n",
       "    <tr>\n",
       "      <th>603</th>\n",
       "      <td>ago,</td>\n",
       "      <td>6</td>\n",
       "    </tr>\n",
       "    <tr>\n",
       "      <th>604</th>\n",
       "      <td>today,</td>\n",
       "      <td>63</td>\n",
       "    </tr>\n",
       "    <tr>\n",
       "      <th>605</th>\n",
       "      <td>american,</td>\n",
       "      <td>19</td>\n",
       "    </tr>\n",
       "    <tr>\n",
       "      <th>606</th>\n",
       "      <td>year)</td>\n",
       "      <td>1</td>\n",
       "    </tr>\n",
       "  </tbody>\n",
       "</table>\n",
       "<p>607 rows × 2 columns</p>\n",
       "</div>"
      ],
      "text/plain": [
       "          entity  frequency\n",
       "0    (yesterday,          1\n",
       "1          march          1\n",
       "2            pm,         11\n",
       "3         today,         63\n",
       "4      thursday,          8\n",
       "..           ...        ...\n",
       "602        years          3\n",
       "603         ago,          6\n",
       "604       today,         63\n",
       "605    american,         19\n",
       "606        year)          1\n",
       "\n",
       "[607 rows x 2 columns]"
      ]
     },
     "execution_count": 132,
     "metadata": {},
     "output_type": "execute_result"
    }
   ],
   "source": [
    "submission"
   ]
  },
  {
   "cell_type": "markdown",
   "metadata": {},
   "source": [
    "### TextBlob performs different operations on textual data such as noun phrase extraction, sentiment analysis, classification, translation, etc"
   ]
  },
  {
   "cell_type": "code",
   "execution_count": 140,
   "metadata": {},
   "outputs": [],
   "source": [
    "from textblob import TextBlob"
   ]
  },
  {
   "cell_type": "code",
   "execution_count": 141,
   "metadata": {},
   "outputs": [],
   "source": [
    "def sentiment(x):\n",
    "    sentiment = TextBlob(x)\n",
    "    return sentiment.sentiment.polarity"
   ]
  },
  {
   "cell_type": "markdown",
   "metadata": {},
   "source": [
    "### The sentiment function of textblob returns two properties, polarity, and subjectivity"
   ]
  },
  {
   "cell_type": "code",
   "execution_count": 146,
   "metadata": {},
   "outputs": [],
   "source": [
    "df['sentiment'] = df['tweet_author'].apply(sentiment)"
   ]
  },
  {
   "cell_type": "code",
   "execution_count": 172,
   "metadata": {},
   "outputs": [],
   "source": [
    "total_polarity = df['sentiment']"
   ]
  },
  {
   "cell_type": "code",
   "execution_count": 204,
   "metadata": {},
   "outputs": [
    {
     "data": {
      "text/plain": [
       "43347"
      ]
     },
     "execution_count": 204,
     "metadata": {},
     "output_type": "execute_result"
    }
   ],
   "source": [
    "len(total_polarity)"
   ]
  },
  {
   "cell_type": "code",
   "execution_count": 199,
   "metadata": {},
   "outputs": [],
   "source": [
    "overall_polarity = []\n",
    "for i in total_polarity:\n",
    "    if i > 0:\n",
    "        overall_polarity.append(\"positive\")\n",
    "    elif i < 0:\n",
    "        overall_polarity.append('negative')\n",
    "    else:\n",
    "        overall_polarity.append(\"Neutral\")"
   ]
  },
  {
   "cell_type": "code",
   "execution_count": 205,
   "metadata": {},
   "outputs": [
    {
     "data": {
      "text/plain": [
       "43347"
      ]
     },
     "execution_count": 205,
     "metadata": {},
     "output_type": "execute_result"
    }
   ],
   "source": [
    "len(overall_polarity)"
   ]
  },
  {
   "cell_type": "code",
   "execution_count": 206,
   "metadata": {},
   "outputs": [],
   "source": [
    "submission1 = pd.DataFrame()\n",
    "submission1['author_name'] = df['tweet_author']\n",
    "submission1['overall_polarity'] = overall_polarity\n",
    "submission1.to_csv('objective2.csv', index=False)"
   ]
  },
  {
   "cell_type": "markdown",
   "metadata": {},
   "source": [
    "###  sentiment/polarity of each author"
   ]
  },
  {
   "cell_type": "code",
   "execution_count": 208,
   "metadata": {},
   "outputs": [
    {
     "data": {
      "text/html": [
       "<div>\n",
       "<style scoped>\n",
       "    .dataframe tbody tr th:only-of-type {\n",
       "        vertical-align: middle;\n",
       "    }\n",
       "\n",
       "    .dataframe tbody tr th {\n",
       "        vertical-align: top;\n",
       "    }\n",
       "\n",
       "    .dataframe thead th {\n",
       "        text-align: right;\n",
       "    }\n",
       "</style>\n",
       "<table border=\"1\" class=\"dataframe\">\n",
       "  <thead>\n",
       "    <tr style=\"text-align: right;\">\n",
       "      <th></th>\n",
       "      <th>author_name</th>\n",
       "      <th>overall_polarity</th>\n",
       "    </tr>\n",
       "  </thead>\n",
       "  <tbody>\n",
       "    <tr>\n",
       "      <th>0</th>\n",
       "      <td>Hematopoiesis News</td>\n",
       "      <td>Neutral</td>\n",
       "    </tr>\n",
       "    <tr>\n",
       "      <th>1</th>\n",
       "      <td>Michael Wang, MD</td>\n",
       "      <td>Neutral</td>\n",
       "    </tr>\n",
       "    <tr>\n",
       "      <th>2</th>\n",
       "      <td>1stOncology</td>\n",
       "      <td>Neutral</td>\n",
       "    </tr>\n",
       "    <tr>\n",
       "      <th>3</th>\n",
       "      <td>Toby Eyre</td>\n",
       "      <td>Neutral</td>\n",
       "    </tr>\n",
       "    <tr>\n",
       "      <th>4</th>\n",
       "      <td>Lymphoma Hub</td>\n",
       "      <td>Neutral</td>\n",
       "    </tr>\n",
       "    <tr>\n",
       "      <th>...</th>\n",
       "      <td>...</td>\n",
       "      <td>...</td>\n",
       "    </tr>\n",
       "    <tr>\n",
       "      <th>43342</th>\n",
       "      <td>Joy is a Lifestyle</td>\n",
       "      <td>positive</td>\n",
       "    </tr>\n",
       "    <tr>\n",
       "      <th>43343</th>\n",
       "      <td>𝓒𝓻𝓲𝔃𝔃𝔂 𝓟𝓮𝓻𝓻𝔂🌹</td>\n",
       "      <td>Neutral</td>\n",
       "    </tr>\n",
       "    <tr>\n",
       "      <th>43344</th>\n",
       "      <td>IQWiG</td>\n",
       "      <td>Neutral</td>\n",
       "    </tr>\n",
       "    <tr>\n",
       "      <th>43345</th>\n",
       "      <td>Medibooks</td>\n",
       "      <td>Neutral</td>\n",
       "    </tr>\n",
       "    <tr>\n",
       "      <th>43346</th>\n",
       "      <td>Medibooks</td>\n",
       "      <td>Neutral</td>\n",
       "    </tr>\n",
       "  </tbody>\n",
       "</table>\n",
       "<p>43347 rows × 2 columns</p>\n",
       "</div>"
      ],
      "text/plain": [
       "              author_name overall_polarity\n",
       "0      Hematopoiesis News          Neutral\n",
       "1        Michael Wang, MD          Neutral\n",
       "2             1stOncology          Neutral\n",
       "3               Toby Eyre          Neutral\n",
       "4            Lymphoma Hub          Neutral\n",
       "...                   ...              ...\n",
       "43342  Joy is a Lifestyle         positive\n",
       "43343       𝓒𝓻𝓲𝔃𝔃𝔂 𝓟𝓮𝓻𝓻𝔂🌹          Neutral\n",
       "43344               IQWiG          Neutral\n",
       "43345           Medibooks          Neutral\n",
       "43346           Medibooks          Neutral\n",
       "\n",
       "[43347 rows x 2 columns]"
      ]
     },
     "execution_count": 208,
     "metadata": {},
     "output_type": "execute_result"
    }
   ],
   "source": [
    "submission1"
   ]
  },
  {
   "cell_type": "code",
   "execution_count": null,
   "metadata": {},
   "outputs": [],
   "source": []
  }
 ],
 "metadata": {
  "kernelspec": {
   "display_name": "Python 3",
   "language": "python",
   "name": "python3"
  },
  "language_info": {
   "codemirror_mode": {
    "name": "ipython",
    "version": 3
   },
   "file_extension": ".py",
   "mimetype": "text/x-python",
   "name": "python",
   "nbconvert_exporter": "python",
   "pygments_lexer": "ipython3",
   "version": "3.8.5"
  }
 },
 "nbformat": 4,
 "nbformat_minor": 4
}
